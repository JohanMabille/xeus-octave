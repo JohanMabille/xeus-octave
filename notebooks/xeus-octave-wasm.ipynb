{
 "cells": [
  {
   "cell_type": "markdown",
   "id": "ddc075cb-48e8-4adb-9d55-e9b2f09b81db",
   "metadata": {},
   "source": [
    "# Xeus-Octave: A WebAssembly Octave kernel for JupyterLite"
   ]
  },
  {
   "cell_type": "markdown",
   "id": "1ac1170e-c1e9-4495-8107-74cb34888847",
   "metadata": {},
   "source": [
    "## Octave plots"
   ]
  },
  {
   "cell_type": "code",
   "execution_count": null,
   "id": "507b617d-900c-4439-ba8f-766408e85d18",
   "metadata": {},
   "outputs": [],
   "source": [
    "graphics_toolkit(\"plotly\")  % The default\n",
    "sombrero"
   ]
  },
  {
   "cell_type": "code",
   "execution_count": null,
   "id": "0c9d8b74-ca62-403b-a1b9-b2e08ecbed4b",
   "metadata": {},
   "outputs": [],
   "source": [
    "a = [1:0.1:13];\n",
    "theta = linspace (0,2*pi,1000);\n",
    "rho = sin (7*theta);\n",
    "\n",
    "subplot(2,2,1);\n",
    "sombrero()\n",
    "grid on;\n",
    "box on;\n",
    "\n",
    "subplot(2,2,2);\n",
    "plot(theta, rho);\n",
    "grid on;\n",
    "box on;\n",
    "\n",
    "subplot(2,2,3);\n",
    "polar(a,a)\n",
    "grid on;\n",
    "box on;\n",
    "\n",
    "subplot(2,2,4);\n",
    "polar(theta, rho);\n",
    "grid on;\n",
    "box on;"
   ]
  },
  {
   "cell_type": "markdown",
   "id": "9173bcbc-2ff8-42c0-9779-9a03c1975b32",
   "metadata": {},
   "source": [
    "## Matrices displayed as tables or $\\LaTeX$"
   ]
  },
  {
   "cell_type": "code",
   "execution_count": null,
   "id": "207056c5-f099-475c-9959-71eb39ad1fd8",
   "metadata": {},
   "outputs": [],
   "source": [
    "disp(\"A table matrix: \\n\")\n",
    "displayformat matrix html;\n",
    "m = ones(3,3)\n",
    "disp(\"\\nAnd a latex one:\\n\")\n",
    "displayformat matrix latex;\n",
    "m"
   ]
  },
  {
   "cell_type": "markdown",
   "id": "fafe280f-50aa-4990-adef-f60484700c2b",
   "metadata": {},
   "source": [
    "## Input support"
   ]
  },
  {
   "cell_type": "code",
   "execution_count": null,
   "id": "0c79f780-3f46-4302-a0c3-691102bb8e31",
   "metadata": {},
   "outputs": [],
   "source": [
    "name = input(\"Enter value: \")"
   ]
  },
  {
   "cell_type": "markdown",
   "id": "76ff5ec0-e72e-429d-878a-8ad691e70cbe",
   "metadata": {},
   "source": [
    "## Help"
   ]
  },
  {
   "cell_type": "code",
   "execution_count": null,
   "id": "cab986b4-5a9b-4c74-80cc-69afc13129b8",
   "metadata": {},
   "outputs": [],
   "source": [
    "plot?"
   ]
  },
  {
   "cell_type": "markdown",
   "id": "714e6a36-084e-44f2-9927-b49cee08c650",
   "metadata": {},
   "source": [
    "## Example"
   ]
  },
  {
   "cell_type": "code",
   "execution_count": null,
   "id": "6012e13c-e40b-45f0-801a-4d0fffd47db9",
   "metadata": {},
   "outputs": [],
   "source": [
    "min_val = 5;\n",
    "max_val = 100;"
   ]
  },
  {
   "cell_type": "code",
   "execution_count": null,
   "id": "982a3d73-dae6-4f3b-acbe-afcf7fe42bd3",
   "metadata": {},
   "outputs": [],
   "source": [
    "A = randi([min_val, max_val], 5, 5)"
   ]
  },
  {
   "cell_type": "code",
   "execution_count": null,
   "id": "41b5845d-d91f-46f0-9fc4-fb3ad15f0a86",
   "metadata": {},
   "outputs": [],
   "source": [
    "b = randi([min_val, max_val], 1, 5)'"
   ]
  },
  {
   "cell_type": "code",
   "execution_count": null,
   "id": "9a1c8be0-57e3-4bbe-a6df-aabe664ff1f7",
   "metadata": {},
   "outputs": [],
   "source": [
    "x = A\\b"
   ]
  },
  {
   "cell_type": "code",
   "execution_count": null,
   "id": "a4303350-c315-497e-a171-71924b05863e",
   "metadata": {},
   "outputs": [],
   "source": []
  }
 ],
 "metadata": {
  "kernelspec": {
   "display_name": "Octave (xoctave)",
   "language": "Octave",
   "name": "xoctave"
  },
  "language_info": {
   "codemirror_mode": "octave",
   "file_extension": ".m",
   "mimetype": "text/x-octave",
   "name": "Octave",
   "nbconvert_exporter": "",
   "pygments_lexer": "octave",
   "version": "10.2.0"
  }
 },
 "nbformat": 4,
 "nbformat_minor": 5
}
